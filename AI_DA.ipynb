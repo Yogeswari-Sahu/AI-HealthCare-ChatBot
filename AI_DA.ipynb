{
  "nbformat": 4,
  "nbformat_minor": 0,
  "metadata": {
    "colab": {
      "provenance": [],
      "include_colab_link": true
    },
    "kernelspec": {
      "name": "python3",
      "display_name": "Python 3"
    }
  },
  "cells": [
    {
      "cell_type": "markdown",
      "metadata": {
        "id": "view-in-github",
        "colab_type": "text"
      },
      "source": [
        "<a href=\"https://colab.research.google.com/github/Yogeswari-Sahu/AI-HealthCare-ChatBot/blob/main/AI_DA.ipynb\" target=\"_parent\"><img src=\"https://colab.research.google.com/assets/colab-badge.svg\" alt=\"Open In Colab\"/></a>"
      ]
    },
    {
      "cell_type": "code",
      "metadata": {
        "id": "YOG2U-z4ribY"
      },
      "source": [
        "import pandas as pd\n",
        "from sklearn import preprocessing\n",
        "from sklearn.tree import DecisionTreeClassifier,_tree\n",
        "import numpy as np\n",
        "from sklearn.model_selection import train_test_split\n",
        "from sklearn import model_selection\n",
        "from sklearn.tree import export_graphviz\n",
        "import warnings\n",
        "warnings.filterwarnings(\"ignore\", category=DeprecationWarning)"
      ],
      "execution_count": null,
      "outputs": []
    },
    {
      "cell_type": "code",
      "metadata": {
        "id": "PzAZqsQYscYP"
      },
      "source": [
        "training = pd.read_csv('Training.csv')\n",
        "testing  = pd.read_csv('Testing.csv')\n",
        "cols     = training.columns\n",
        "cols     = cols[:-1]\n",
        "x        = training[cols]\n",
        "y        = training['prognosis']\n",
        "y1       = y\n",
        "\n",
        "reduced_data = training.groupby(training['prognosis']).max()"
      ],
      "execution_count": null,
      "outputs": []
    },
    {
      "cell_type": "code",
      "metadata": {
        "id": "InURyyQ9w70l",
        "outputId": "56dc09e3-33d8-45e5-cc98-a24a8c80d718",
        "colab": {
          "base_uri": "https://localhost:8080/",
          "height": 55
        }
      },
      "source": [
        "from google.colab import drive\n",
        "drive.mount('/content/drive')"
      ],
      "execution_count": null,
      "outputs": [
        {
          "output_type": "stream",
          "text": [
            "Drive already mounted at /content/drive; to attempt to forcibly remount, call drive.mount(\"/content/drive\", force_remount=True).\n"
          ],
          "name": "stdout"
        }
      ]
    },
    {
      "cell_type": "code",
      "metadata": {
        "id": "s5a7uurAstlp"
      },
      "source": [
        "le = preprocessing.LabelEncoder()\n",
        "le.fit(y)\n",
        "y = le.transform(y)\n",
        "\n",
        "\n",
        "x_train, x_test, y_train, y_test = train_test_split(x, y, test_size=0.33, random_state=42)\n",
        "testx    = testing[cols]\n",
        "testy    = testing['prognosis']\n",
        "testy    = le.transform(testy)\n",
        "\n",
        "\n",
        "clf1  = DecisionTreeClassifier()\n",
        "clf = clf1.fit(x_train,y_train)"
      ],
      "execution_count": null,
      "outputs": []
    },
    {
      "cell_type": "code",
      "metadata": {
        "id": "OjA6CS20szWr"
      },
      "source": [
        "#print(clf.score(x_train,y_train))\n",
        "#print (\"cross result========\")\n",
        "#scores = cross_validation.cross_val_score(clf, x_test, y_test, cv=3)\n",
        "#print (scores)\n",
        "#print (scores.mean())\n",
        "#print(clf.score(testx,testy))\n",
        "\n",
        "importances = clf.feature_importances_\n",
        "indices = np.argsort(importances)[::-1]\n",
        "features = cols"
      ],
      "execution_count": null,
      "outputs": []
    },
    {
      "cell_type": "code",
      "metadata": {
        "id": "21R2SKoZs4I0",
        "outputId": "d511cf18-0067-4eb6-c7a3-c388d90f3f49",
        "colab": {
          "base_uri": "https://localhost:8080/",
          "height": 431
        }
      },
      "source": [
        "#feature_importances\n",
        "#for f in range(10):\n",
        "#    print(\"%d. feature %d - %s (%f)\" % (f + 1, indices[f], features[indices[f]] ,importances[indices[f]]))\n",
        "\n",
        "print(\"Please reply Yes or No for the following symptoms\")\n",
        "def print_disease(node):\n",
        "    #print(node)\n",
        "    node = node[0]\n",
        "    #print(len(node))\n",
        "    val  = node.nonzero()\n",
        "    #print(val)\n",
        "    disease = le.inverse_transform(val[0])\n",
        "    return disease\n",
        "def tree_to_code(tree, feature_names):\n",
        "    tree_ = tree.tree_\n",
        "    #print(tree_)\n",
        "    feature_name = [\n",
        "        feature_names[i] if i != _tree.TREE_UNDEFINED else \"undefined!\"\n",
        "        for i in tree_.feature\n",
        "    ]\n",
        "      #print(\"def tree({}):\".format(\", \".join(feature_names)))\n",
        "    symptoms_present = []\n",
        "    def recurse(node, depth):\n",
        "        indent = \"  \" * depth\n",
        "        if tree_.feature[node] != _tree.TREE_UNDEFINED:\n",
        "            name = feature_name[node]\n",
        "            threshold = tree_.threshold[node]\n",
        "            print(name + \" ?\")\n",
        "            ans = input()\n",
        "            ans = ans.lower()\n",
        "            if ans == 'yes':\n",
        "                val = 1\n",
        "            else:\n",
        "                val = 0\n",
        "            if  val <= threshold:\n",
        "                recurse(tree_.children_left[node], depth + 1)\n",
        "            else:\n",
        "                symptoms_present.append(name)\n",
        "                recurse(tree_.children_right[node], depth + 1)\n",
        "        else:\n",
        "            present_disease = print_disease(tree_.value[node])\n",
        "            print( \"You may have \" +  present_disease )\n",
        "            red_cols = reduced_data.columns\n",
        "            symptoms_given = red_cols[reduced_data.loc[present_disease].values[0].nonzero()]\n",
        "            print(\"symptoms present  \" + str(list(symptoms_present)))\n",
        "            print(\"symptoms given \"  +  str(list(symptoms_given)) )\n",
        "            confidence_level = (1.0*len(symptoms_present))/len(symptoms_given)\n",
        "            print(\"confidence level is \" + str(confidence_level))\n",
        "\n",
        "    recurse(0, 1)\n",
        "\n",
        "tree_to_code(clf,cols)\n",
        "\n"
      ],
      "execution_count": null,
      "outputs": [
        {
          "output_type": "stream",
          "text": [
            "Please reply Yes or No for the following symptoms\n",
            "redness_of_eyes ?\n",
            "no\n",
            "internal_itching ?\n",
            "no\n",
            "hip_joint_pain ?\n",
            "no\n",
            "increased_appetite ?\n",
            "no\n",
            "inflammatory_nails ?\n",
            "no\n",
            "swollen_extremeties ?\n",
            "no\n",
            "blood_in_sputum ?\n",
            "no\n",
            "yellow_crust_ooze ?\n",
            "no\n",
            "nodal_skin_eruptions ?\n",
            "yes\n",
            "['You may have Fungal infection']\n",
            "symptoms present  ['nodal_skin_eruptions']\n",
            "symptoms given ['itching', 'skin_rash', 'nodal_skin_eruptions', 'dischromic _patches']\n",
            "confidence level is 0.25\n"
          ],
          "name": "stdout"
        }
      ]
    }
  ]
}